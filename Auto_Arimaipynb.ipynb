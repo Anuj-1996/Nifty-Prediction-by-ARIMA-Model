{
  "nbformat": 4,
  "nbformat_minor": 0,
  "metadata": {
    "colab": {
      "provenance": [],
      "collapsed_sections": [],
      "authorship_tag": "ABX9TyOX2cveDcn9rWfr/kI1NMf5",
      "include_colab_link": true
    },
    "kernelspec": {
      "name": "python3",
      "display_name": "Python 3"
    },
    "language_info": {
      "name": "python"
    }
  },
  "cells": [
    {
      "cell_type": "markdown",
      "metadata": {
        "id": "view-in-github",
        "colab_type": "text"
      },
      "source": [
        "<a href=\"https://colab.research.google.com/github/Anuj-1996/Nifty-Prediction-by-ARIMA-Model/blob/main/Auto_Arimaipynb.ipynb\" target=\"_parent\"><img src=\"https://colab.research.google.com/assets/colab-badge.svg\" alt=\"Open In Colab\"/></a>"
      ]
    },
    {
      "cell_type": "code",
      "execution_count": 11,
      "metadata": {
        "colab": {
          "base_uri": "https://localhost:8080/"
        },
        "id": "-GgR_uuCPR4R",
        "outputId": "ccb19f01-ebfb-43bf-9370-ba2e6f8434a2"
      },
      "outputs": [
        {
          "output_type": "stream",
          "name": "stdout",
          "text": [
            "Looking in indexes: https://pypi.org/simple, https://us-python.pkg.dev/colab-wheels/public/simple/\n",
            "Requirement already satisfied: yfinance in /usr/local/lib/python3.7/dist-packages (0.1.74)\n",
            "Requirement already satisfied: requests>=2.26 in /usr/local/lib/python3.7/dist-packages (from yfinance) (2.28.1)\n",
            "Requirement already satisfied: pandas>=0.24.0 in /usr/local/lib/python3.7/dist-packages (from yfinance) (1.3.5)\n",
            "Requirement already satisfied: lxml>=4.5.1 in /usr/local/lib/python3.7/dist-packages (from yfinance) (4.9.1)\n",
            "Requirement already satisfied: numpy>=1.15 in /usr/local/lib/python3.7/dist-packages (from yfinance) (1.21.6)\n",
            "Requirement already satisfied: multitasking>=0.0.7 in /usr/local/lib/python3.7/dist-packages (from yfinance) (0.0.11)\n",
            "Requirement already satisfied: pytz>=2017.3 in /usr/local/lib/python3.7/dist-packages (from pandas>=0.24.0->yfinance) (2022.2.1)\n",
            "Requirement already satisfied: python-dateutil>=2.7.3 in /usr/local/lib/python3.7/dist-packages (from pandas>=0.24.0->yfinance) (2.8.2)\n",
            "Requirement already satisfied: six>=1.5 in /usr/local/lib/python3.7/dist-packages (from python-dateutil>=2.7.3->pandas>=0.24.0->yfinance) (1.15.0)\n",
            "Requirement already satisfied: charset-normalizer<3,>=2 in /usr/local/lib/python3.7/dist-packages (from requests>=2.26->yfinance) (2.1.1)\n",
            "Requirement already satisfied: urllib3<1.27,>=1.21.1 in /usr/local/lib/python3.7/dist-packages (from requests>=2.26->yfinance) (1.24.3)\n",
            "Requirement already satisfied: certifi>=2017.4.17 in /usr/local/lib/python3.7/dist-packages (from requests>=2.26->yfinance) (2022.6.15)\n",
            "Requirement already satisfied: idna<4,>=2.5 in /usr/local/lib/python3.7/dist-packages (from requests>=2.26->yfinance) (2.10)\n"
          ]
        }
      ],
      "source": [
        "pip install yfinance"
      ]
    },
    {
      "cell_type": "code",
      "source": [
        "pip install pmdarima"
      ],
      "metadata": {
        "colab": {
          "base_uri": "https://localhost:8080/"
        },
        "id": "qWbm5F5uUW-v",
        "outputId": "f71789d4-e0be-425f-adfd-8a9d006f5161"
      },
      "execution_count": 12,
      "outputs": [
        {
          "output_type": "stream",
          "name": "stdout",
          "text": [
            "Looking in indexes: https://pypi.org/simple, https://us-python.pkg.dev/colab-wheels/public/simple/\n",
            "Requirement already satisfied: pmdarima in /usr/local/lib/python3.7/dist-packages (2.0.1)\n",
            "Requirement already satisfied: scipy>=1.3.2 in /usr/local/lib/python3.7/dist-packages (from pmdarima) (1.7.3)\n",
            "Requirement already satisfied: numpy>=1.21 in /usr/local/lib/python3.7/dist-packages (from pmdarima) (1.21.6)\n",
            "Requirement already satisfied: scikit-learn>=0.22 in /usr/local/lib/python3.7/dist-packages (from pmdarima) (1.0.2)\n",
            "Requirement already satisfied: statsmodels>=0.13.2 in /usr/local/lib/python3.7/dist-packages (from pmdarima) (0.13.2)\n",
            "Requirement already satisfied: setuptools!=50.0.0,>=38.6.0 in /usr/local/lib/python3.7/dist-packages (from pmdarima) (57.4.0)\n",
            "Requirement already satisfied: urllib3 in /usr/local/lib/python3.7/dist-packages (from pmdarima) (1.24.3)\n",
            "Requirement already satisfied: Cython!=0.29.18,!=0.29.31,>=0.29 in /usr/local/lib/python3.7/dist-packages (from pmdarima) (0.29.32)\n",
            "Requirement already satisfied: pandas>=0.19 in /usr/local/lib/python3.7/dist-packages (from pmdarima) (1.3.5)\n",
            "Requirement already satisfied: joblib>=0.11 in /usr/local/lib/python3.7/dist-packages (from pmdarima) (1.1.0)\n",
            "Requirement already satisfied: pytz>=2017.3 in /usr/local/lib/python3.7/dist-packages (from pandas>=0.19->pmdarima) (2022.2.1)\n",
            "Requirement already satisfied: python-dateutil>=2.7.3 in /usr/local/lib/python3.7/dist-packages (from pandas>=0.19->pmdarima) (2.8.2)\n",
            "Requirement already satisfied: six>=1.5 in /usr/local/lib/python3.7/dist-packages (from python-dateutil>=2.7.3->pandas>=0.19->pmdarima) (1.15.0)\n",
            "Requirement already satisfied: threadpoolctl>=2.0.0 in /usr/local/lib/python3.7/dist-packages (from scikit-learn>=0.22->pmdarima) (3.1.0)\n",
            "Requirement already satisfied: packaging>=21.3 in /usr/local/lib/python3.7/dist-packages (from statsmodels>=0.13.2->pmdarima) (21.3)\n",
            "Requirement already satisfied: patsy>=0.5.2 in /usr/local/lib/python3.7/dist-packages (from statsmodels>=0.13.2->pmdarima) (0.5.2)\n",
            "Requirement already satisfied: pyparsing!=3.0.5,>=2.0.2 in /usr/local/lib/python3.7/dist-packages (from packaging>=21.3->statsmodels>=0.13.2->pmdarima) (3.0.9)\n"
          ]
        }
      ]
    },
    {
      "cell_type": "markdown",
      "source": [
        "Importing Libraries"
      ],
      "metadata": {
        "id": "oNCd3CZvY4vp"
      }
    },
    {
      "cell_type": "code",
      "source": [
        "import numpy as np\n",
        "import pandas as pd\n",
        "import yfinance as yf\n",
        "import matplotlib.pyplot as plt\n",
        "from pmdarima.arima import auto_arima\n",
        "import statsmodels.api as sm\n",
        "import warnings\n",
        "from statsmodels.tsa.stattools import adfuller as ad\n",
        "from statsmodels.tsa.arima_model import ARIMA\n",
        "warnings.filterwarnings('ignore')"
      ],
      "metadata": {
        "id": "ja-ytZANPUZN"
      },
      "execution_count": 13,
      "outputs": []
    },
    {
      "cell_type": "markdown",
      "source": [
        "Downloading NIFTY data from yahoo finance"
      ],
      "metadata": {
        "id": "dy4PjnchZJeH"
      }
    },
    {
      "cell_type": "code",
      "source": [
        "# Defining the Ticker\n",
        "ticker = yf.Ticker('^NSEI')\n",
        "\n",
        "# Obtaining Historical Market Data\n",
        "start_date = '2007-05-01'\n",
        "end_date = '2022-09-09'\n",
        "df= ticker.history(start=start_date, end=end_date)\n",
        "df"
      ],
      "metadata": {
        "colab": {
          "base_uri": "https://localhost:8080/",
          "height": 455
        },
        "id": "ibsrj18JPUcn",
        "outputId": "2fb806e1-945e-4b10-9bbb-bab6ba565824"
      },
      "execution_count": 58,
      "outputs": [
        {
          "output_type": "execute_result",
          "data": {
            "text/plain": [
              "                    Open          High           Low         Close  Volume  \\\n",
              "Date                                                                         \n",
              "2007-09-17   4518.450195   4549.049805   4482.850098   4494.649902       0   \n",
              "2007-09-18   4494.100098   4551.799805   4481.549805   4546.200195       0   \n",
              "2007-09-19   4550.250000   4739.000000   4550.250000   4732.350098       0   \n",
              "2007-09-20   4734.850098   4760.850098   4721.149902   4747.549805       0   \n",
              "2007-09-21   4752.950195   4855.700195   4733.700195   4837.549805       0   \n",
              "...                  ...           ...           ...           ...     ...   \n",
              "2022-09-02  17598.400391  17643.849609  17476.449219  17539.449219  256300   \n",
              "2022-09-05  17546.449219  17683.150391  17540.349609  17665.800781  230300   \n",
              "2022-09-06  17695.699219  17764.650391  17587.650391  17655.599609  251200   \n",
              "2022-09-07  17519.400391  17650.750000  17484.300781  17624.400391  354100   \n",
              "2022-09-08  17748.150391  17807.650391  17691.949219  17798.750000  279800   \n",
              "\n",
              "            Dividends  Stock Splits  \n",
              "Date                                 \n",
              "2007-09-17          0             0  \n",
              "2007-09-18          0             0  \n",
              "2007-09-19          0             0  \n",
              "2007-09-20          0             0  \n",
              "2007-09-21          0             0  \n",
              "...               ...           ...  \n",
              "2022-09-02          0             0  \n",
              "2022-09-05          0             0  \n",
              "2022-09-06          0             0  \n",
              "2022-09-07          0             0  \n",
              "2022-09-08          0             0  \n",
              "\n",
              "[3669 rows x 7 columns]"
            ],
            "text/html": [
              "\n",
              "  <div id=\"df-a1454b7d-3418-448d-a45d-8c93323cc31b\">\n",
              "    <div class=\"colab-df-container\">\n",
              "      <div>\n",
              "<style scoped>\n",
              "    .dataframe tbody tr th:only-of-type {\n",
              "        vertical-align: middle;\n",
              "    }\n",
              "\n",
              "    .dataframe tbody tr th {\n",
              "        vertical-align: top;\n",
              "    }\n",
              "\n",
              "    .dataframe thead th {\n",
              "        text-align: right;\n",
              "    }\n",
              "</style>\n",
              "<table border=\"1\" class=\"dataframe\">\n",
              "  <thead>\n",
              "    <tr style=\"text-align: right;\">\n",
              "      <th></th>\n",
              "      <th>Open</th>\n",
              "      <th>High</th>\n",
              "      <th>Low</th>\n",
              "      <th>Close</th>\n",
              "      <th>Volume</th>\n",
              "      <th>Dividends</th>\n",
              "      <th>Stock Splits</th>\n",
              "    </tr>\n",
              "    <tr>\n",
              "      <th>Date</th>\n",
              "      <th></th>\n",
              "      <th></th>\n",
              "      <th></th>\n",
              "      <th></th>\n",
              "      <th></th>\n",
              "      <th></th>\n",
              "      <th></th>\n",
              "    </tr>\n",
              "  </thead>\n",
              "  <tbody>\n",
              "    <tr>\n",
              "      <th>2007-09-17</th>\n",
              "      <td>4518.450195</td>\n",
              "      <td>4549.049805</td>\n",
              "      <td>4482.850098</td>\n",
              "      <td>4494.649902</td>\n",
              "      <td>0</td>\n",
              "      <td>0</td>\n",
              "      <td>0</td>\n",
              "    </tr>\n",
              "    <tr>\n",
              "      <th>2007-09-18</th>\n",
              "      <td>4494.100098</td>\n",
              "      <td>4551.799805</td>\n",
              "      <td>4481.549805</td>\n",
              "      <td>4546.200195</td>\n",
              "      <td>0</td>\n",
              "      <td>0</td>\n",
              "      <td>0</td>\n",
              "    </tr>\n",
              "    <tr>\n",
              "      <th>2007-09-19</th>\n",
              "      <td>4550.250000</td>\n",
              "      <td>4739.000000</td>\n",
              "      <td>4550.250000</td>\n",
              "      <td>4732.350098</td>\n",
              "      <td>0</td>\n",
              "      <td>0</td>\n",
              "      <td>0</td>\n",
              "    </tr>\n",
              "    <tr>\n",
              "      <th>2007-09-20</th>\n",
              "      <td>4734.850098</td>\n",
              "      <td>4760.850098</td>\n",
              "      <td>4721.149902</td>\n",
              "      <td>4747.549805</td>\n",
              "      <td>0</td>\n",
              "      <td>0</td>\n",
              "      <td>0</td>\n",
              "    </tr>\n",
              "    <tr>\n",
              "      <th>2007-09-21</th>\n",
              "      <td>4752.950195</td>\n",
              "      <td>4855.700195</td>\n",
              "      <td>4733.700195</td>\n",
              "      <td>4837.549805</td>\n",
              "      <td>0</td>\n",
              "      <td>0</td>\n",
              "      <td>0</td>\n",
              "    </tr>\n",
              "    <tr>\n",
              "      <th>...</th>\n",
              "      <td>...</td>\n",
              "      <td>...</td>\n",
              "      <td>...</td>\n",
              "      <td>...</td>\n",
              "      <td>...</td>\n",
              "      <td>...</td>\n",
              "      <td>...</td>\n",
              "    </tr>\n",
              "    <tr>\n",
              "      <th>2022-09-02</th>\n",
              "      <td>17598.400391</td>\n",
              "      <td>17643.849609</td>\n",
              "      <td>17476.449219</td>\n",
              "      <td>17539.449219</td>\n",
              "      <td>256300</td>\n",
              "      <td>0</td>\n",
              "      <td>0</td>\n",
              "    </tr>\n",
              "    <tr>\n",
              "      <th>2022-09-05</th>\n",
              "      <td>17546.449219</td>\n",
              "      <td>17683.150391</td>\n",
              "      <td>17540.349609</td>\n",
              "      <td>17665.800781</td>\n",
              "      <td>230300</td>\n",
              "      <td>0</td>\n",
              "      <td>0</td>\n",
              "    </tr>\n",
              "    <tr>\n",
              "      <th>2022-09-06</th>\n",
              "      <td>17695.699219</td>\n",
              "      <td>17764.650391</td>\n",
              "      <td>17587.650391</td>\n",
              "      <td>17655.599609</td>\n",
              "      <td>251200</td>\n",
              "      <td>0</td>\n",
              "      <td>0</td>\n",
              "    </tr>\n",
              "    <tr>\n",
              "      <th>2022-09-07</th>\n",
              "      <td>17519.400391</td>\n",
              "      <td>17650.750000</td>\n",
              "      <td>17484.300781</td>\n",
              "      <td>17624.400391</td>\n",
              "      <td>354100</td>\n",
              "      <td>0</td>\n",
              "      <td>0</td>\n",
              "    </tr>\n",
              "    <tr>\n",
              "      <th>2022-09-08</th>\n",
              "      <td>17748.150391</td>\n",
              "      <td>17807.650391</td>\n",
              "      <td>17691.949219</td>\n",
              "      <td>17798.750000</td>\n",
              "      <td>279800</td>\n",
              "      <td>0</td>\n",
              "      <td>0</td>\n",
              "    </tr>\n",
              "  </tbody>\n",
              "</table>\n",
              "<p>3669 rows × 7 columns</p>\n",
              "</div>\n",
              "      <button class=\"colab-df-convert\" onclick=\"convertToInteractive('df-a1454b7d-3418-448d-a45d-8c93323cc31b')\"\n",
              "              title=\"Convert this dataframe to an interactive table.\"\n",
              "              style=\"display:none;\">\n",
              "        \n",
              "  <svg xmlns=\"http://www.w3.org/2000/svg\" height=\"24px\"viewBox=\"0 0 24 24\"\n",
              "       width=\"24px\">\n",
              "    <path d=\"M0 0h24v24H0V0z\" fill=\"none\"/>\n",
              "    <path d=\"M18.56 5.44l.94 2.06.94-2.06 2.06-.94-2.06-.94-.94-2.06-.94 2.06-2.06.94zm-11 1L8.5 8.5l.94-2.06 2.06-.94-2.06-.94L8.5 2.5l-.94 2.06-2.06.94zm10 10l.94 2.06.94-2.06 2.06-.94-2.06-.94-.94-2.06-.94 2.06-2.06.94z\"/><path d=\"M17.41 7.96l-1.37-1.37c-.4-.4-.92-.59-1.43-.59-.52 0-1.04.2-1.43.59L10.3 9.45l-7.72 7.72c-.78.78-.78 2.05 0 2.83L4 21.41c.39.39.9.59 1.41.59.51 0 1.02-.2 1.41-.59l7.78-7.78 2.81-2.81c.8-.78.8-2.07 0-2.86zM5.41 20L4 18.59l7.72-7.72 1.47 1.35L5.41 20z\"/>\n",
              "  </svg>\n",
              "      </button>\n",
              "      \n",
              "  <style>\n",
              "    .colab-df-container {\n",
              "      display:flex;\n",
              "      flex-wrap:wrap;\n",
              "      gap: 12px;\n",
              "    }\n",
              "\n",
              "    .colab-df-convert {\n",
              "      background-color: #E8F0FE;\n",
              "      border: none;\n",
              "      border-radius: 50%;\n",
              "      cursor: pointer;\n",
              "      display: none;\n",
              "      fill: #1967D2;\n",
              "      height: 32px;\n",
              "      padding: 0 0 0 0;\n",
              "      width: 32px;\n",
              "    }\n",
              "\n",
              "    .colab-df-convert:hover {\n",
              "      background-color: #E2EBFA;\n",
              "      box-shadow: 0px 1px 2px rgba(60, 64, 67, 0.3), 0px 1px 3px 1px rgba(60, 64, 67, 0.15);\n",
              "      fill: #174EA6;\n",
              "    }\n",
              "\n",
              "    [theme=dark] .colab-df-convert {\n",
              "      background-color: #3B4455;\n",
              "      fill: #D2E3FC;\n",
              "    }\n",
              "\n",
              "    [theme=dark] .colab-df-convert:hover {\n",
              "      background-color: #434B5C;\n",
              "      box-shadow: 0px 1px 3px 1px rgba(0, 0, 0, 0.15);\n",
              "      filter: drop-shadow(0px 1px 2px rgba(0, 0, 0, 0.3));\n",
              "      fill: #FFFFFF;\n",
              "    }\n",
              "  </style>\n",
              "\n",
              "      <script>\n",
              "        const buttonEl =\n",
              "          document.querySelector('#df-a1454b7d-3418-448d-a45d-8c93323cc31b button.colab-df-convert');\n",
              "        buttonEl.style.display =\n",
              "          google.colab.kernel.accessAllowed ? 'block' : 'none';\n",
              "\n",
              "        async function convertToInteractive(key) {\n",
              "          const element = document.querySelector('#df-a1454b7d-3418-448d-a45d-8c93323cc31b');\n",
              "          const dataTable =\n",
              "            await google.colab.kernel.invokeFunction('convertToInteractive',\n",
              "                                                     [key], {});\n",
              "          if (!dataTable) return;\n",
              "\n",
              "          const docLinkHtml = 'Like what you see? Visit the ' +\n",
              "            '<a target=\"_blank\" href=https://colab.research.google.com/notebooks/data_table.ipynb>data table notebook</a>'\n",
              "            + ' to learn more about interactive tables.';\n",
              "          element.innerHTML = '';\n",
              "          dataTable['output_type'] = 'display_data';\n",
              "          await google.colab.output.renderOutput(dataTable, element);\n",
              "          const docLink = document.createElement('div');\n",
              "          docLink.innerHTML = docLinkHtml;\n",
              "          element.appendChild(docLink);\n",
              "        }\n",
              "      </script>\n",
              "    </div>\n",
              "  </div>\n",
              "  "
            ]
          },
          "metadata": {},
          "execution_count": 58
        }
      ]
    },
    {
      "cell_type": "code",
      "source": [
        "ts =df['Close']\n",
        "ts.plot()\n"
      ],
      "metadata": {
        "colab": {
          "base_uri": "https://localhost:8080/",
          "height": 286
        },
        "id": "_6WbRkzmjsDE",
        "outputId": "d1ee6e16-73e2-4529-9cc0-44469fabed11"
      },
      "execution_count": 59,
      "outputs": [
        {
          "output_type": "execute_result",
          "data": {
            "text/plain": [
              "<matplotlib.axes._subplots.AxesSubplot at 0x7f9d238b38d0>"
            ]
          },
          "metadata": {},
          "execution_count": 59
        },
        {
          "output_type": "display_data",
          "data": {
            "text/plain": [
              "<Figure size 432x288 with 1 Axes>"
            ],
            "image/png": "[encoded data removed]"
          },
          "metadata": {
            "needs_background": "light"
          }
        }
      ]
    },
    {
      "cell_type": "markdown",
      "source": [
        "augmented Dickey–Fuller test (ADF) to check stationarity"
      ],
      "metadata": {
        "id": "NSW_w0p6ZUCw"
      }
    },
    {
      "cell_type": "code",
      "source": [
        "adtest = ad(ts)\n",
        "print(\"P value is:\" ,adtest[1])"
      ],
      "metadata": {
        "colab": {
          "base_uri": "https://localhost:8080/"
        },
        "id": "4QdIeFfyPUgm",
        "outputId": "70bd6ac0-bd71-42f9-8d87-b881152b7646"
      },
      "execution_count": 60,
      "outputs": [
        {
          "output_type": "stream",
          "name": "stdout",
          "text": [
            "P value is: 0.9881591201198271\n"
          ]
        }
      ]
    },
    {
      "cell_type": "markdown",
      "source": [
        "As the P value is not less than 0.05, means data is not stationary. We will use Auto_arima from pmdarima library to find out (p,q,d) values. First we will divide data into test and train sets.\n"
      ],
      "metadata": {
        "id": "mNX_of0bZraj"
      }
    },
    {
      "cell_type": "markdown",
      "source": [
        "Train and Test Data"
      ],
      "metadata": {
        "id": "UZOKWHjZm1Tu"
      }
    },
    {
      "cell_type": "code",
      "source": [
        "#Defining test and train data sizes\n",
        "train = ts[:3400]\n",
        "test = ts[3400:]\n",
        "train.tail()"
      ],
      "metadata": {
        "colab": {
          "base_uri": "https://localhost:8080/"
        },
        "id": "RltOSQpdmzH3",
        "outputId": "90f1f604-91ba-42e3-f5c3-a61d3e76d31b"
      },
      "execution_count": 61,
      "outputs": [
        {
          "output_type": "execute_result",
          "data": {
            "text/plain": [
              "Date\n",
              "2021-08-03    16130.750000\n",
              "2021-08-04    16258.799805\n",
              "2021-08-05    16294.599609\n",
              "2021-08-06    16238.200195\n",
              "2021-08-09    16258.250000\n",
              "Name: Close, dtype: float64"
            ]
          },
          "metadata": {},
          "execution_count": 61
        }
      ]
    },
    {
      "cell_type": "markdown",
      "source": [
        "Auto ARIMA"
      ],
      "metadata": {
        "id": "HDfgKwNgaWsk"
      }
    },
    {
      "cell_type": "code",
      "source": [
        "import pmdarima\n",
        "from pmdarima import auto_arima\n",
        "\n",
        "auto_arima(train, start_P = 0,Stat_Q=0, seasonal= True, d=1, trace=True, error_action='ignore', surpass_warnigns= True, stepwise=True)\n"
      ],
      "metadata": {
        "colab": {
          "base_uri": "https://localhost:8080/"
        },
        "id": "ynqtYS6R94Et",
        "outputId": "e08a0f95-d18a-4df9-b7f7-4d735db31104"
      },
      "execution_count": 62,
      "outputs": [
        {
          "output_type": "stream",
          "name": "stdout",
          "text": [
            "Performing stepwise search to minimize aic\n",
            " ARIMA(2,1,2)(0,0,0)[0] intercept   : AIC=40611.138, Time=4.96 sec\n",
            " ARIMA(0,1,0)(0,0,0)[0] intercept   : AIC=40652.584, Time=0.12 sec\n",
            " ARIMA(1,1,0)(0,0,0)[0] intercept   : AIC=40652.601, Time=0.17 sec\n",
            " ARIMA(0,1,1)(0,0,0)[0] intercept   : AIC=40652.653, Time=0.43 sec\n",
            " ARIMA(0,1,0)(0,0,0)[0]             : AIC=40655.032, Time=0.08 sec\n",
            " ARIMA(1,1,2)(0,0,0)[0] intercept   : AIC=40655.925, Time=1.80 sec\n",
            " ARIMA(2,1,1)(0,0,0)[0] intercept   : AIC=40655.901, Time=2.65 sec\n",
            " ARIMA(3,1,2)(0,0,0)[0] intercept   : AIC=40597.924, Time=8.42 sec\n",
            " ARIMA(3,1,1)(0,0,0)[0] intercept   : AIC=40656.481, Time=0.79 sec\n",
            " ARIMA(4,1,2)(0,0,0)[0] intercept   : AIC=40586.847, Time=10.39 sec\n",
            " ARIMA(4,1,1)(0,0,0)[0] intercept   : AIC=40658.450, Time=0.96 sec\n",
            " ARIMA(5,1,2)(0,0,0)[0] intercept   : AIC=40583.804, Time=11.25 sec\n",
            " ARIMA(5,1,1)(0,0,0)[0] intercept   : AIC=40625.388, Time=7.42 sec\n",
            " ARIMA(5,1,3)(0,0,0)[0] intercept   : AIC=40587.143, Time=12.67 sec\n",
            " ARIMA(4,1,3)(0,0,0)[0] intercept   : AIC=40584.644, Time=10.52 sec\n",
            " ARIMA(5,1,2)(0,0,0)[0]             : AIC=40584.224, Time=5.46 sec\n",
            "\n",
            "Best model:  ARIMA(5,1,2)(0,0,0)[0] intercept\n",
            "Total fit time: 78.120 seconds\n"
          ]
        },
        {
          "output_type": "execute_result",
          "data": {
            "text/plain": [
              "ARIMA(order=(5, 1, 2), scoring_args={}, suppress_warnings=True)"
            ]
          },
          "metadata": {},
          "execution_count": 62
        }
      ]
    },
    {
      "cell_type": "code",
      "source": [
        "len(ts)"
      ],
      "metadata": {
        "colab": {
          "base_uri": "https://localhost:8080/"
        },
        "id": "1QbK83QCmys8",
        "outputId": "29a1c9ff-6618-4778-c4c1-e33359bfc106"
      },
      "execution_count": 63,
      "outputs": [
        {
          "output_type": "execute_result",
          "data": {
            "text/plain": [
              "3669"
            ]
          },
          "metadata": {},
          "execution_count": 63
        }
      ]
    },
    {
      "cell_type": "markdown",
      "source": [
        "Build Arima\n"
      ],
      "metadata": {
        "id": "YDF4TuT4pMTZ"
      }
    },
    {
      "cell_type": "code",
      "source": [
        "model = sm.tsa.arima.ARIMA(train, order=(5, 1, 2)).fit()\n",
        "print(model.summary())"
      ],
      "metadata": {
        "colab": {
          "base_uri": "https://localhost:8080/"
        },
        "id": "vFAsFP9tmzkX",
        "outputId": "1db7da97-11bf-4dd7-b296-fc1fae5335d5"
      },
      "execution_count": 71,
      "outputs": [
        {
          "output_type": "stream",
          "name": "stdout",
          "text": [
            "                               SARIMAX Results                                \n",
            "==============================================================================\n",
            "Dep. Variable:                  Close   No. Observations:                 3400\n",
            "Model:                 ARIMA(5, 1, 2)   Log Likelihood              -20284.112\n",
            "Date:                Sun, 11 Sep 2022   AIC                          40584.224\n",
            "Time:                        11:24:49   BIC                          40633.274\n",
            "Sample:                             0   HQIC                         40601.755\n",
            "                               - 3400                                         \n",
            "Covariance Type:                  opg                                         \n",
            "==============================================================================\n",
            "                 coef    std err          z      P>|z|      [0.025      0.975]\n",
            "------------------------------------------------------------------------------\n",
            "ar.L1         -1.3433      0.027    -49.160      0.000      -1.397      -1.290\n",
            "ar.L2         -0.7613      0.028    -27.331      0.000      -0.816      -0.707\n",
            "ar.L3          0.0143      0.018      0.811      0.417      -0.020       0.049\n",
            "ar.L4         -0.0192      0.016     -1.194      0.232      -0.051       0.012\n",
            "ar.L5          0.0419      0.010      4.010      0.000       0.021       0.062\n",
            "ma.L1          1.3863      0.025     55.887      0.000       1.338       1.435\n",
            "ma.L2          0.8281      0.023     35.709      0.000       0.783       0.874\n",
            "sigma2      8939.7327    102.819     86.947      0.000    8738.212    9141.254\n",
            "===================================================================================\n",
            "Ljung-Box (L1) (Q):                   0.00   Jarque-Bera (JB):             19542.66\n",
            "Prob(Q):                              0.97   Prob(JB):                         0.00\n",
            "Heteroskedasticity (H):               2.09   Skew:                            -0.66\n",
            "Prob(H) (two-sided):                  0.00   Kurtosis:                        14.67\n",
            "===================================================================================\n",
            "\n",
            "Warnings:\n",
            "[1] Covariance matrix calculated using the outer product of gradients (complex-step).\n"
          ]
        }
      ]
    },
    {
      "cell_type": "code",
      "source": [
        "len(train), (len(ts)-1)"
      ],
      "metadata": {
        "colab": {
          "base_uri": "https://localhost:8080/"
        },
        "id": "gCYD0WrNrXPk",
        "outputId": "1838f894-7471-4d50-f2c9-c889448bb410"
      },
      "execution_count": 72,
      "outputs": [
        {
          "output_type": "execute_result",
          "data": {
            "text/plain": [
              "(3400, 3668)"
            ]
          },
          "metadata": {},
          "execution_count": 72
        }
      ]
    },
    {
      "cell_type": "code",
      "source": [
        "pred = model.predict(start=len(train), end = (len(ts)-1))\n",
        "pred"
      ],
      "metadata": {
        "colab": {
          "base_uri": "https://localhost:8080/"
        },
        "id": "Pfz1OY9imzok",
        "outputId": "55bd151c-24e9-4688-e81a-6c77b9a7cd66"
      },
      "execution_count": 73,
      "outputs": [
        {
          "output_type": "execute_result",
          "data": {
            "text/plain": [
              "3400    16253.501497\n",
              "3401    16248.867702\n",
              "3402    16261.577745\n",
              "3403    16245.216761\n",
              "3404    16258.382320\n",
              "            ...     \n",
              "3664    16253.425948\n",
              "3665    16253.425948\n",
              "3666    16253.425948\n",
              "3667    16253.425948\n",
              "3668    16253.425948\n",
              "Name: predicted_mean, Length: 269, dtype: float64"
            ]
          },
          "metadata": {},
          "execution_count": 73
        }
      ]
    },
    {
      "cell_type": "code",
      "source": [
        "from sklearn.metrics import mean_squared_error as mse\n",
        "error = np.sqrt(mse(test,pred))\n",
        "print(\"Mean:\", test.mean(), \"error:\", error)"
      ],
      "metadata": {
        "colab": {
          "base_uri": "https://localhost:8080/"
        },
        "id": "nWH3HPCUmz0f",
        "outputId": "aabd46a4-b4d8-4666-e258-94afd67fbf7e"
      },
      "execution_count": 74,
      "outputs": [
        {
          "output_type": "stream",
          "name": "stdout",
          "text": [
            "Mean: 17112.45742695748 error: 1118.5818346730653\n"
          ]
        }
      ]
    },
    {
      "cell_type": "code",
      "source": [
        "train.plot(legend = True, label ='Train', figsize =(10,8))\n",
        "test.plot(legend = True, label ='Test')\n"
      ],
      "metadata": {
        "colab": {
          "base_uri": "https://localhost:8080/",
          "height": 482
        },
        "id": "wf2kM96vPUkF",
        "outputId": "ebca2d72-1478-4ad5-b46a-8b987d2e3ddd"
      },
      "execution_count": 75,
      "outputs": [
        {
          "output_type": "execute_result",
          "data": {
            "text/plain": [
              "<matplotlib.axes._subplots.AxesSubplot at 0x7f9d1fc0eb50>"
            ]
          },
          "metadata": {},
          "execution_count": 75
        },
        {
          "output_type": "display_data",
          "data": {
            "text/plain": [
              "<Figure size 720x576 with 1 Axes>"
            ],
            "image/png": "[encoded data removed]"
          },
          "metadata": {
            "needs_background": "light"
          }
        }
      ]
    },
    {
      "cell_type": "markdown",
      "source": [
        "Pedict future 4 days closing values (using whole data set)"
      ],
      "metadata": {
        "id": "up1wgG2Daivp"
      }
    },
    {
      "cell_type": "code",
      "source": [
        "final_model =sm.tsa.arima.ARIMA(ts, order=(5, 1, 2)).fit()\n",
        "prediction =final_model.predict(len(ts),len(ts)+4)\n",
        "ts.plot(legend = True, label ='Train', figsize =(10,8))"
      ],
      "metadata": {
        "colab": {
          "base_uri": "https://localhost:8080/",
          "height": 482
        },
        "id": "zcgrq1n7PUnv",
        "outputId": "2ca5cd14-5ef6-4189-9882-81bc0d42c41a"
      },
      "execution_count": 78,
      "outputs": [
        {
          "output_type": "execute_result",
          "data": {
            "text/plain": [
              "<matplotlib.axes._subplots.AxesSubplot at 0x7f9d1f8004d0>"
            ]
          },
          "metadata": {},
          "execution_count": 78
        },
        {
          "output_type": "display_data",
          "data": {
            "text/plain": [
              "<Figure size 720x576 with 1 Axes>"
            ],
            "image/png": "[encoded data removed]"
          },
          "metadata": {
            "needs_background": "light"
          }
        }
      ]
    },
    {
      "cell_type": "code",
      "source": [
        "print(\"Next 4 days closing prices:\", prediction, end=\"\\n\")"
      ],
      "metadata": {
        "colab": {
          "base_uri": "https://localhost:8080/"
        },
        "id": "qEiL1lZC9d0a",
        "outputId": "f04987c2-6093-4631-fb17-884aedc30051"
      },
      "execution_count": 81,
      "outputs": [
        {
          "output_type": "stream",
          "name": "stdout",
          "text": [
            "Next 4 days closing prices: 3669    17846.321577\n",
            "3670    17836.651586\n",
            "3671    17811.966370\n",
            "3672    17848.005956\n",
            "3673    17821.920895\n",
            "Name: predicted_mean, dtype: float64\n"
          ]
        }
      ]
    }
  ]
}